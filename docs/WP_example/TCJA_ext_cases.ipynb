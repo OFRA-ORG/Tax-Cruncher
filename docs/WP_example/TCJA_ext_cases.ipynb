{
 "cells": [
  {
   "cell_type": "code",
   "execution_count": 1,
   "id": "3277dca2-2c13-4be9-873f-91d80c1d3cd7",
   "metadata": {},
   "outputs": [],
   "source": [
    "from taxcrunch import multi_cruncher as mc\n",
    "import os\n",
    "import pandas as pd\n",
    "import math"
   ]
  },
  {
   "cell_type": "code",
   "execution_count": 2,
   "id": "5be82272-c4f5-4a7b-b89b-00c375864024",
   "metadata": {},
   "outputs": [],
   "source": [
    "def run_model(folder):\n",
    "    CURRENT_PATH = os.path.abspath(os.path.dirname('file'))\n",
    "    path = os.path.join(CURRENT_PATH, folder + \"/input_WZ_2026.csv\")\n",
    "\n",
    "    escalate = True\n",
    "    counter = 1\n",
    "    while escalate:\n",
    "        test_df = pd.read_csv(path, header=None)\n",
    "        test_df.loc[1] = test_df.loc[0]\n",
    "        test_df.at[1, 0] = 2\n",
    "        test_df.at[1, 9] = test_df.at[0, 9] + counter\n",
    "        path_a = os.path.join(CURRENT_PATH, folder + \"/input_WZ_2026_a.csv\")\n",
    "        test_df.to_csv(path_a, header=None, index=None)\n",
    "    \n",
    "        batch = mc.Batch(path_a)\n",
    "    \n",
    "        reform_path = os.path.join(CURRENT_PATH, \"TCJA_ext.json\")\n",
    "        output_df = batch.create_table(reform_file=reform_path)\n",
    "        output_df.to_csv(folder + '/output_WZ_2026.csv')\n",
    "    \n",
    "        diff_df = batch.create_diff_table(reform_file=reform_path)\n",
    "        diff_df.to_csv(folder + '/diff_WZ_2026.csv')\n",
    "    \n",
    "        post_tax_income_ext = (output_df['Wages'] - output_df['Individual Income Tax'])[0]\n",
    "        post_tax_income_exp = post_tax_income_ext + diff_df['Individual Income Tax Diff'][0]\n",
    "        equiv = (output_df['Wages'] - output_df['Individual Income Tax']+ diff_df['Individual Income Tax Diff'])[1]\n",
    "    \n",
    "        if post_tax_income_ext - equiv > 1:\n",
    "            counter = counter + math.floor(post_tax_income_ext - equiv)\n",
    "        else:\n",
    "            escalate = False\n",
    "\n",
    "    tax_extended = output_df['Individual Income Tax'][0]\n",
    "    print(tax_extended)\n",
    "    tax_expired = output_df['Individual Income Tax'][0] - diff_df['Individual Income Tax Diff'][0]\n",
    "    print(tax_expired)\n",
    "    \n",
    "    rate_extended = output_df['Income Tax MTR'][0]\n",
    "    print(rate_extended)\n",
    "    rate_expired = output_df['Income Tax MTR'][0] - diff_df['Income Tax MTR Diff'][0]\n",
    "    print(rate_expired)\n",
    "    \n",
    "    needed_extended = test_df[9][0] + test_df[10][0]\n",
    "    print(needed_extended)\n",
    "    needed_expired = test_df[9][1] + test_df[10][1]\n",
    "    print(needed_expired)"
   ]
  },
  {
   "cell_type": "code",
   "execution_count": 10,
   "id": "2348d55d-4d7d-4cc8-b042-63ae8cdfae17",
   "metadata": {},
   "outputs": [
    {
     "name": "stdout",
     "output_type": "stream",
     "text": [
      "23419.1636\n",
      "25228.51\n",
      "0.240000000121654\n",
      "0.28000000020256266\n",
      "160000\n",
      "162512\n"
     ]
    }
   ],
   "source": [
    "run_model('case2')"
   ]
  },
  {
   "cell_type": "code",
   "execution_count": 9,
   "id": "708a7227-3971-4f6a-bd62-20857413ec4e",
   "metadata": {},
   "outputs": [
    {
     "name": "stdout",
     "output_type": "stream",
     "text": [
      "15577.1306\n",
      "18521.85\n",
      "0.21999999989930075\n",
      "0.24999999986903276\n",
      "110000\n",
      "113925\n"
     ]
    }
   ],
   "source": [
    "run_model('case1')"
   ]
  },
  {
   "cell_type": "code",
   "execution_count": 11,
   "id": "63c1fb34-84d6-4b21-a664-fa4e2a3b97e1",
   "metadata": {},
   "outputs": [
    {
     "name": "stdout",
     "output_type": "stream",
     "text": [
      "27154.265799999994\n",
      "34393.6\n",
      "0.22000000026309863\n",
      "0.25000000023283064\n",
      "220000\n",
      "229652\n"
     ]
    }
   ],
   "source": [
    "run_model('case3')"
   ]
  },
  {
   "cell_type": "code",
   "execution_count": 12,
   "id": "51d9d88a-b975-4f09-a771-f8b3620f5795",
   "metadata": {},
   "outputs": [
    {
     "name": "stdout",
     "output_type": "stream",
     "text": [
      "33889.7878\n",
      "38148.1\n",
      "0.23999999975785613\n",
      "0.25000000023283064\n",
      "250000\n",
      "255783\n"
     ]
    }
   ],
   "source": [
    "run_model('case4')"
   ]
  }
 ],
 "metadata": {
  "kernelspec": {
   "display_name": "Python 3 (ipykernel)",
   "language": "python",
   "name": "python3"
  },
  "language_info": {
   "codemirror_mode": {
    "name": "ipython",
    "version": 3
   },
   "file_extension": ".py",
   "mimetype": "text/x-python",
   "name": "python",
   "nbconvert_exporter": "python",
   "pygments_lexer": "ipython3",
   "version": "3.12.3"
  }
 },
 "nbformat": 4,
 "nbformat_minor": 5
}
